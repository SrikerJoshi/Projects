{
  "metadata": {
    "kernelspec": {
      "language": "python",
      "display_name": "Python 3",
      "name": "python3"
    },
    "language_info": {
      "name": "python",
      "version": "3.10.14",
      "mimetype": "text/x-python",
      "codemirror_mode": {
        "name": "ipython",
        "version": 3
      },
      "pygments_lexer": "ipython3",
      "nbconvert_exporter": "python",
      "file_extension": ".py"
    },
    "kaggle": {
      "accelerator": "none",
      "dataSources": [
        {
          "sourceId": 9328273,
          "sourceType": "datasetVersion",
          "datasetId": 5651646
        }
      ],
      "dockerImageVersionId": 30762,
      "isInternetEnabled": true,
      "language": "python",
      "sourceType": "notebook",
      "isGpuEnabled": false
    },
    "colab": {
      "name": "Ollama_chatbot",
      "provenance": []
    }
  },
  "nbformat_minor": 0,
  "nbformat": 4,
  "cells": [
    {
      "source": [
        "\n",
        "# IMPORTANT: RUN THIS CELL IN ORDER TO IMPORT YOUR KAGGLE DATA SOURCES\n",
        "# TO THE CORRECT LOCATION (/kaggle/input) IN YOUR NOTEBOOK,\n",
        "# THEN FEEL FREE TO DELETE THIS CELL.\n",
        "# NOTE: THIS NOTEBOOK ENVIRONMENT DIFFERS FROM KAGGLE'S PYTHON\n",
        "# ENVIRONMENT SO THERE MAY BE MISSING LIBRARIES USED BY YOUR\n",
        "# NOTEBOOK.\n",
        "\n",
        "import os\n",
        "import sys\n",
        "from tempfile import NamedTemporaryFile\n",
        "from urllib.request import urlopen\n",
        "from urllib.parse import unquote, urlparse\n",
        "from urllib.error import HTTPError\n",
        "from zipfile import ZipFile\n",
        "import tarfile\n",
        "import shutil\n",
        "\n",
        "CHUNK_SIZE = 40960\n",
        "DATA_SOURCE_MAPPING = 'personal-info-txt:https%3A%2F%2Fstorage.googleapis.com%2Fkaggle-data-sets%2F5651646%2F9328273%2Fbundle%2Farchive.zip%3FX-Goog-Algorithm%3DGOOG4-RSA-SHA256%26X-Goog-Credential%3Dgcp-kaggle-com%2540kaggle-161607.iam.gserviceaccount.com%252F20240909%252Fauto%252Fstorage%252Fgoog4_request%26X-Goog-Date%3D20240909T072234Z%26X-Goog-Expires%3D259200%26X-Goog-SignedHeaders%3Dhost%26X-Goog-Signature%3Dc2a269b9e3a6377e6aac3fbcf5889a6e885fea9fda867e1881704b1bb57d71b96c7781897029c7fbebca8e8885df963ea8e4f486f08ac781408838d6ea952d9020b7fc94e4fc2ceae93aed95c46ffef17c6b75ff494d9491f99cbdbbb78defe2cb8bc3f4b9bc0d5e5877502fb1b7c8036b1314328eef55e8fdc5b6a58db5bc75a09e13c3de9ec7aa28fb5e16cb778359c41aeb79b9fbb5a8e56720081a1186d1f4b5f07a32e97fd92bb45ea2ef146757db62197499ae3a8d65b9047d1e1151ac9d75664bcc3d56d5261a94a9fad71e38aef7a69b8c2ca7ac1199ff5008848b6ed19bab06b974bce2a187a9494a3de49545a181b54eda9cc7fb21b5c98d40eaa5'\n",
        "\n",
        "KAGGLE_INPUT_PATH='/kaggle/input'\n",
        "KAGGLE_WORKING_PATH='/kaggle/working'\n",
        "KAGGLE_SYMLINK='kaggle'\n",
        "\n",
        "!umount /kaggle/input/ 2> /dev/null\n",
        "shutil.rmtree('/kaggle/input', ignore_errors=True)\n",
        "os.makedirs(KAGGLE_INPUT_PATH, 0o777, exist_ok=True)\n",
        "os.makedirs(KAGGLE_WORKING_PATH, 0o777, exist_ok=True)\n",
        "\n",
        "try:\n",
        "  os.symlink(KAGGLE_INPUT_PATH, os.path.join(\"..\", 'input'), target_is_directory=True)\n",
        "except FileExistsError:\n",
        "  pass\n",
        "try:\n",
        "  os.symlink(KAGGLE_WORKING_PATH, os.path.join(\"..\", 'working'), target_is_directory=True)\n",
        "except FileExistsError:\n",
        "  pass\n",
        "\n",
        "for data_source_mapping in DATA_SOURCE_MAPPING.split(','):\n",
        "    directory, download_url_encoded = data_source_mapping.split(':')\n",
        "    download_url = unquote(download_url_encoded)\n",
        "    filename = urlparse(download_url).path\n",
        "    destination_path = os.path.join(KAGGLE_INPUT_PATH, directory)\n",
        "    try:\n",
        "        with urlopen(download_url) as fileres, NamedTemporaryFile() as tfile:\n",
        "            total_length = fileres.headers['content-length']\n",
        "            print(f'Downloading {directory}, {total_length} bytes compressed')\n",
        "            dl = 0\n",
        "            data = fileres.read(CHUNK_SIZE)\n",
        "            while len(data) > 0:\n",
        "                dl += len(data)\n",
        "                tfile.write(data)\n",
        "                done = int(50 * dl / int(total_length))\n",
        "                sys.stdout.write(f\"\\r[{'=' * done}{' ' * (50-done)}] {dl} bytes downloaded\")\n",
        "                sys.stdout.flush()\n",
        "                data = fileres.read(CHUNK_SIZE)\n",
        "            if filename.endswith('.zip'):\n",
        "              with ZipFile(tfile) as zfile:\n",
        "                zfile.extractall(destination_path)\n",
        "            else:\n",
        "              with tarfile.open(tfile.name) as tarfile:\n",
        "                tarfile.extractall(destination_path)\n",
        "            print(f'\\nDownloaded and uncompressed: {directory}')\n",
        "    except HTTPError as e:\n",
        "        print(f'Failed to load (likely expired) {download_url} to path {destination_path}')\n",
        "        continue\n",
        "    except OSError as e:\n",
        "        print(f'Failed to load {download_url} to path {destination_path}')\n",
        "        continue\n",
        "\n",
        "print('Data source import complete.')\n"
      ],
      "metadata": {
        "id": "g3Bco9EbqcFq",
        "outputId": "274084d2-215e-4475-a3fb-eccb1ce88800",
        "colab": {
          "base_uri": "https://localhost:8080/"
        }
      },
      "cell_type": "code",
      "outputs": [
        {
          "output_type": "stream",
          "name": "stdout",
          "text": [
            "Downloading personal-info-txt, 2246 bytes compressed\n",
            "\r[==================================================] 2246 bytes downloaded\n",
            "Downloaded and uncompressed: personal-info-txt\n",
            "Data source import complete.\n"
          ]
        }
      ],
      "execution_count": 1
    },
    {
      "cell_type": "code",
      "source": [
        "# This Python 3 environment comes with many helpful analytics libraries installed\n",
        "# It is defined by the kaggle/python Docker image: https://github.com/kaggle/docker-python\n",
        "# For example, here's several helpful packages to load\n",
        "\n",
        "import numpy as np # linear algebra\n",
        "import pandas as pd # data processing, CSV file I/O (e.g. pd.read_csv)\n",
        "\n",
        "# Input data files are available in the read-only \"../input/\" directory\n",
        "# For example, running this (by clicking run or pressing Shift+Enter) will list all files under the input directory\n",
        "\n",
        "import os\n",
        "for dirname, _, filenames in os.walk('/kaggle/input'):\n",
        "    for filename in filenames:\n",
        "        print(os.path.join(dirname, filename))\n",
        "\n",
        "# You can write up to 20GB to the current directory (/kaggle/working/) that gets preserved as output when you create a version using \"Save & Run All\"\n",
        "# You can also write temporary files to /kaggle/temp/, but they won't be saved outside of the current session"
      ],
      "metadata": {
        "_uuid": "8f2839f25d086af736a60e9eeb907d3b93b6e0e5",
        "_cell_guid": "b1076dfc-b9ad-4769-8c92-a6c4dae69d19",
        "execution": {
          "iopub.status.busy": "2024-09-05T20:02:38.39082Z",
          "iopub.execute_input": "2024-09-05T20:02:38.391532Z",
          "iopub.status.idle": "2024-09-05T20:02:38.772783Z",
          "shell.execute_reply.started": "2024-09-05T20:02:38.391479Z",
          "shell.execute_reply": "2024-09-05T20:02:38.771757Z"
        },
        "trusted": true,
        "id": "Wdvv8g54qcFr"
      },
      "execution_count": null,
      "outputs": []
    },
    {
      "cell_type": "code",
      "source": [
        "'''install these if not installed already\n",
        "\n",
        "if you want to run this on your local system using ollama you can download the packages\n",
        "needed for it at https://ollama.com/download\n",
        "after installation setup you have to open command prompt or terminal and type the \"command ollama pull llama3\"\n",
        "for llama3 if you want other LLMs there are a bunch of others as well at https://github.com/ollama/ollama/blob/main/README.md\n",
        "\n",
        "After you install you can add a web interface to the chatbot if you want to use an open source project API to link to ollama\n",
        "you can find it here https://github.com/open-webui/open-webui , i did not use this but you can use it if you like.\n",
        "\n",
        "then come to VS code and pip install these packages using terminal\n",
        "\n",
        "\"pip install langchain langchain_ollama ollama\" then run this code below while adding personal_info.txt file\n",
        " in the code directory and you are all set.'''"
      ],
      "metadata": {
        "execution": {
          "iopub.status.busy": "2024-09-05T20:02:53.997488Z",
          "iopub.status.idle": "2024-09-05T20:02:53.997833Z",
          "shell.execute_reply.started": "2024-09-05T20:02:53.997662Z",
          "shell.execute_reply": "2024-09-05T20:02:53.99768Z"
        },
        "trusted": true,
        "id": "fLVU46gbqcFr"
      },
      "execution_count": null,
      "outputs": []
    },
    {
      "cell_type": "code",
      "source": [
        "from langchain_ollama import OllamaLLM\n",
        "from langchain_core.prompts import ChatPromptTemplate\n",
        "\n",
        "template = '''\n",
        "\n",
        "Answer the question below\n",
        "here is the conversation history : {context}\n",
        "\n",
        "question : {Question}\n",
        "\n",
        "Answer :\n",
        "'''\n",
        "\n",
        "model = OllamaLLM(model=\"llama3\")\n",
        "prompt = ChatPromptTemplate.from_template(template)\n",
        "chain = prompt | model\n",
        "\n",
        "def load_file_content(filename):\n",
        "    \"\"\"Load the content of the specified text file.\"\"\"\n",
        "    with open(filename, 'r') as file:\n",
        "        return file.read()\n",
        "\n",
        "def handle_convo(file_content):\n",
        "    context = file_content\n",
        "    print(\"\\nwelcome to my chatbot using LLama and langchain, type 'exit' to exit out of chatbot\\n\\nYou can use this chatbot to know info about sriker joshi\\n\")\n",
        "    while True:\n",
        "        user_input = input(\"You: \")\n",
        "        if user_input.lower() == \"exit\":\n",
        "            print(\"Exiting the chatbot. Context will be reset.\")\n",
        "            context = file_content  # Reset context to initial content after exiting\n",
        "            break\n",
        "\n",
        "        result = chain.invoke({\"context\": context, \"Question\" : user_input})\n",
        "        print(\"chatbot: \", result)\n",
        "        context += f\"\\nUser: {user_input}\\n chatbot: {result}\"\n",
        "\n",
        "if __name__==\"__main__\":\n",
        "\n",
        "    file_content = load_file_content(\"/kaggle/input/personal-info-txt/personal_info.txt\")\n",
        "\n",
        "    handle_convo(file_content)\n"
      ],
      "metadata": {
        "execution": {
          "iopub.status.busy": "2024-09-05T20:16:21.41534Z",
          "iopub.execute_input": "2024-09-05T20:16:21.416262Z"
        },
        "trusted": true,
        "id": "DL6IZ0TMqcFr"
      },
      "execution_count": null,
      "outputs": []
    },
    {
      "cell_type": "code",
      "source": [],
      "metadata": {
        "id": "quCMNvHDqcFs"
      },
      "execution_count": null,
      "outputs": []
    }
  ]
}