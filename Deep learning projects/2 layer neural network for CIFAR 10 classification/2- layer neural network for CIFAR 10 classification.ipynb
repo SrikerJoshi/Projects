{
 "cells": [
  {
   "cell_type": "markdown",
   "id": "11cf6ef8",
   "metadata": {},
   "source": [
    "### Using PYtorch to accomplish 2 layer neural network "
   ]
  },
  {
   "cell_type": "code",
   "execution_count": 15,
   "id": "dff06ae4",
   "metadata": {},
   "outputs": [
    {
     "name": "stdout",
     "output_type": "stream",
     "text": [
      "Files already downloaded and verified\n",
      "Files already downloaded and verified\n",
      "Epoch 1, Loss: 1.880\n",
      "Epoch 2, Loss: 1.656\n",
      "Epoch 3, Loss: 1.572\n",
      "Epoch 4, Loss: 1.514\n",
      "Epoch 5, Loss: 1.469\n",
      "Epoch 6, Loss: 1.428\n",
      "Epoch 7, Loss: 1.393\n",
      "Epoch 8, Loss: 1.358\n",
      "Epoch 9, Loss: 1.327\n",
      "Epoch 10, Loss: 1.298\n",
      "Finished Training\n",
      "Accuracy of the network on the 10000 test images: 51 %\n"
     ]
    }
   ],
   "source": [
    "import torch\n",
    "import torch.nn as nn\n",
    "import torch.optim as optim\n",
    "import torchvision\n",
    "import torchvision.transforms as transforms\n",
    "\n",
    "# Step 1: Loading the CIFAR-10 Dataset\n",
    "transform = transforms.Compose([\n",
    "    transforms.ToTensor(),  # Convert images to PyTorch tensors\n",
    "    transforms.Normalize((0.5, 0.5, 0.5), (0.5, 0.5, 0.5))  # Normalize images\n",
    "])\n",
    "\n",
    "trainset = torchvision.datasets.CIFAR10(root='./data', train=True,\n",
    "                                        download=True, transform=transform)\n",
    "trainloader = torch.utils.data.DataLoader(trainset, batch_size=64,\n",
    "                                          shuffle=True, num_workers=2)\n",
    "\n",
    "testset = torchvision.datasets.CIFAR10(root='./data', train=False,\n",
    "                                       download=True, transform=transform)\n",
    "\n",
    "testloader = torch.utils.data.DataLoader(testset, batch_size=64,\n",
    "                                         shuffle=False, num_workers=2)\n",
    "\n",
    "# Step 3: Define the Neural Network Model\n",
    "class Net(nn.Module):\n",
    "    def __init__(self):\n",
    "        super(Net, self).__init__()\n",
    "        self.fc1 = nn.Linear(32 * 32 * 3, 512)  # Input size is 32x32x3 (CIFAR-10 images)\n",
    "        self.fc2 = nn.Linear(512, 10)  # Output size is 10 classes\n",
    "\n",
    "    def forward(self, x):\n",
    "        x = x.view(-1, 32 * 32 * 3)  # Flatten input tensor\n",
    "        x = torch.relu(self.fc1(x))  # Apply ReLU activation function\n",
    "        x = self.fc2(x)\n",
    "        return x\n",
    "\n",
    "net = Net()\n",
    "\n",
    "# Step 4: Specify Loss Function and Optimizer\n",
    "criterion = nn.CrossEntropyLoss()\n",
    "optimizer = optim.SGD(net.parameters(), lr=0.001, momentum=0.9)\n",
    "\n",
    "# Step 5: Training the Model\n",
    "for epoch in range(10):  # Train for 10 epochs\n",
    "    running_loss = 0.0\n",
    "    for i, data in enumerate(trainloader, 0):\n",
    "        inputs, labels = data\n",
    "\n",
    "        optimizer.zero_grad()\n",
    "\n",
    "        outputs = net(inputs)\n",
    "        loss = criterion(outputs, labels)\n",
    "        loss.backward()\n",
    "        optimizer.step()\n",
    "\n",
    "        running_loss += loss.item()\n",
    "        if i % 2000 == 1999:  # Print every 2000 mini-batches\n",
    "            print('[%d, %5d] loss: %.3f' %\n",
    "                  (epoch + 1, i + 1, running_loss / 2000))\n",
    "            running_loss = 0.0\n",
    "    print('Epoch %d, Loss: %.3f' % (epoch + 1, running_loss / len(trainloader)))      \n",
    "print('Finished Training')\n",
    "\n",
    "# Step 6: Evaluate the Model\n",
    "correct = 0\n",
    "total = 0\n",
    "with torch.no_grad():\n",
    "    for data in testloader:\n",
    "        images, labels = data\n",
    "        outputs = net(images)\n",
    "        _, predicted = torch.max(outputs.data, 1)\n",
    "        total += labels.size(0)\n",
    "        correct += (predicted == labels).sum().item()\n",
    "\n",
    "print('Accuracy of the network on the 10000 test images: %d %%' % (\n",
    "    100 * correct / total))\n",
    "\n"
   ]
  },
  {
   "cell_type": "code",
   "execution_count": 20,
   "id": "3532384a",
   "metadata": {},
   "outputs": [
    {
     "name": "stdout",
     "output_type": "stream",
     "text": [
      "\n",
      " losses=1014.7645643353462\n",
      "\n"
     ]
    }
   ],
   "source": [
    "print(f'\\n losses={running_loss}\\n')"
   ]
  },
  {
   "cell_type": "markdown",
   "id": "993081d0",
   "metadata": {},
   "source": [
    "# Target percentage= 51%"
   ]
  },
  {
   "cell_type": "markdown",
   "id": "08afa138",
   "metadata": {},
   "source": [
    "## Implementing Custom 2-layer Neural Network using numpy arrays"
   ]
  },
  {
   "cell_type": "code",
   "execution_count": 21,
   "id": "eb507411",
   "metadata": {},
   "outputs": [],
   "source": [
    "import numpy as np\n",
    "import matplotlib.pyplot as plt\n",
    "from sklearn.metrics import accuracy_score\n",
    "from keras.datasets import cifar10"
   ]
  },
  {
   "cell_type": "markdown",
   "id": "44cd9694",
   "metadata": {},
   "source": [
    "# Step 1: Load and preprocess CIFAR-10 dataset"
   ]
  },
  {
   "cell_type": "code",
   "execution_count": 5,
   "id": "76ade988",
   "metadata": {},
   "outputs": [],
   "source": [
    "(X_train, y_train), (X_test, y_test) = cifar10.load_data()\n",
    "\n",
    "# Normalize the data\n",
    "X_train = X_train.astype('float32') / 255\n",
    "X_test = X_test.astype('float32') / 255\n",
    "\n",
    "# Flatten the images\n",
    "X_train_flat = X_train.reshape(X_train.shape[0], -1)\n",
    "X_test_flat = X_test.reshape(X_test.shape[0], -1)\n",
    "\n",
    "# Convert labels to one-hot encoding\n",
    "num_classes = 10\n",
    "y_train_onehot = np.eye(num_classes)[y_train.flatten()]\n",
    "y_test_onehot = np.eye(num_classes)[y_test.flatten()]\n",
    "\n",
    "# Normalize the data\n",
    "mean = np.mean(X_train_flat, axis=0)\n",
    "std = np.std(X_train_flat, axis=0)\n",
    "X_train_normalized = (X_train_flat - mean) / (std + 1e-8)\n",
    "X_test_normalized = (X_test_flat - mean) / (std + 1e-8)"
   ]
  },
  {
   "cell_type": "markdown",
   "id": "aec215f7",
   "metadata": {},
   "source": [
    "# Step 2: Implement forward pass"
   ]
  },
  {
   "cell_type": "code",
   "execution_count": 3,
   "id": "ec3286f7",
   "metadata": {},
   "outputs": [],
   "source": [
    "def forward_pass(X, W1, b1, W2, b2):\n",
    "    Z1 = np.dot(X, W1) + b1\n",
    "    A1 = np.maximum(0, Z1)  # ReLU activation\n",
    "    scores = np.dot(A1, W2) + b2\n",
    "    return scores, A1\n"
   ]
  },
  {
   "cell_type": "markdown",
   "id": "12244965",
   "metadata": {},
   "source": [
    "# Step 3: Implement backward pass and Adding L2 regularization gradient"
   ]
  },
  {
   "cell_type": "code",
   "execution_count": 4,
   "id": "ad7e13f4",
   "metadata": {},
   "outputs": [],
   "source": [
    "def backward_pass(X, scores, A1, y_onehot, W1, b1, W2, b2, reg_strength):\n",
    "    num_examples = X.shape[0]\n",
    "    dscores = (scores - y_onehot) / num_examples\n",
    "    dW2 = np.dot(A1.T, dscores)\n",
    "    db2 = np.sum(dscores, axis=0)\n",
    "    dA1 = np.dot(dscores, W2.T)\n",
    "    dZ1 = dA1 * (A1 > 0)  # Backprop ReLU\n",
    "    dW1 = np.dot(X.T, dZ1)\n",
    "    db1 = np.sum(dZ1, axis=0)\n",
    "    \n",
    "    # Add regularization gradient\n",
    "    dW2 += reg_strength * W2\n",
    "    dW1 += reg_strength * W1\n",
    "    \n",
    "    return dW1, db1, dW2, db2"
   ]
  },
  {
   "cell_type": "code",
   "execution_count": 5,
   "id": "e71113c2",
   "metadata": {},
   "outputs": [],
   "source": [
    "def predict(X, W1, b1, W2, b2):\n",
    "    scores, _ = forward_pass(X, W1, b1, W2, b2)\n",
    "    return np.argmax(scores, axis=1)"
   ]
  },
  {
   "cell_type": "markdown",
   "id": "7470d97f",
   "metadata": {},
   "source": [
    "# Step 4: Train the network with mini-batch gradient descent"
   ]
  },
  {
   "cell_type": "markdown",
   "id": "bf349bc2",
   "metadata": {},
   "source": [
    "## Here we are calculating cross entropy loss"
   ]
  },
  {
   "cell_type": "code",
   "execution_count": 6,
   "id": "49eb578e",
   "metadata": {},
   "outputs": [],
   "source": [
    "def train(X, y, num_epochs=10, batch_size=32, learning_rate=1e-3, reg_strength=1e-5, hidden_size=100):\n",
    "    input_size = X.shape[1]\n",
    "    output_size = num_classes\n",
    "    \n",
    "    # Initializing weights and biases\n",
    "    np.random.seed(0)\n",
    "    W1 = np.random.randn(input_size, hidden_size) * 0.01\n",
    "    b1 = np.zeros(hidden_size)\n",
    "    W2 = np.random.randn(hidden_size, output_size) * 0.01\n",
    "    b2 = np.zeros(output_size)\n",
    "    \n",
    "    num_batches = X.shape[0] // batch_size\n",
    "    \n",
    "    # Initializing lists to store loss and accuracy values for each epoch\n",
    "    accuracies_per_epoch = []\n",
    "    losses_per_epoch = []\n",
    "    \n",
    "    # Training loop\n",
    "    for epoch in range(num_epochs):\n",
    "        # Shuffle the data\n",
    "        permutation = np.random.permutation(X.shape[0])\n",
    "        X_shuffled = X[permutation]\n",
    "        y_shuffled = y[permutation]\n",
    "        \n",
    "        # Mini-batch gradient descent\n",
    "        total_loss = 0\n",
    "        \n",
    "        for i in range(num_batches):\n",
    "            start = i * batch_size\n",
    "            end = start + batch_size\n",
    "            X_batch = X_shuffled[start:end]\n",
    "            y_batch = y_shuffled[start:end]\n",
    "            \n",
    "            # Forward pass\n",
    "            scores, A1 = forward_pass(X_batch, W1, b1, W2, b2)\n",
    "            \n",
    "            # Computing loss using cross entropy loss(loss= data loss + regularization loss)\n",
    "            epsilon = 1e-8\n",
    "            scores = np.maximum(scores, epsilon)\n",
    "            correct_logprobs = -np.log(scores[range(X_batch.shape[0]), y_batch.argmax(axis=1)])\n",
    "            data_loss = np.sum(correct_logprobs)\n",
    "            reg_loss = 0.5 * reg_strength * (np.sum(W1 * W1) + np.sum(W2 * W2))\n",
    "            loss = data_loss + reg_loss\n",
    "            total_loss += loss\n",
    "            \n",
    "            # Backward pass\n",
    "            dW1, db1, dW2, db2 = backward_pass(X_batch, scores, A1, y_batch, W1, b1, W2, b2, reg_strength)\n",
    "            \n",
    "            # Update the weights and biases\n",
    "            W1 -= learning_rate * dW1\n",
    "            b1 -= learning_rate * db1\n",
    "            W2 -= learning_rate * dW2\n",
    "            b2 -= learning_rate * db2\n",
    "        \n",
    "        # Computing the average loss for the epoch\n",
    "        avg_loss = total_loss / num_batches\n",
    "        \n",
    "        # Computing the accuracy for the epoch\n",
    "        y_pred = predict(X_test_normalized, W1, b1, W2, b2)\n",
    "        accuracy = accuracy_score(y_test, y_pred)\n",
    "        \n",
    "        # Appending the average loss for the epoch\n",
    "        losses_per_epoch.append(avg_loss)\n",
    "        \n",
    "        # Append accuracy for this epoch\n",
    "        accuracies_per_epoch.append(accuracy)\n",
    "    \n",
    "    return accuracies_per_epoch, losses_per_epoch\n"
   ]
  },
  {
   "cell_type": "markdown",
   "id": "9fb7ddbb",
   "metadata": {},
   "source": [
    "# Step 5: Hyper parameter comparision and Tuning :-\n",
    "\n",
    "# Training the network with each combination of hyperparameters to identify the best combination of hyper parameters."
   ]
  },
  {
   "cell_type": "markdown",
   "id": "7bc72f5d",
   "metadata": {},
   "source": [
    "### Here we are using various hyper parameters like changing the number of nodes in the hidden layer, changing learning rate, and regularization strength for L2 regularization."
   ]
  },
  {
   "cell_type": "code",
   "execution_count": 7,
   "id": "5c583519",
   "metadata": {},
   "outputs": [
    {
     "name": "stdout",
     "output_type": "stream",
     "text": [
      "\n",
      "Training with learning rate=0.01, regularization strength=0.01, hidden size=10\n",
      "\n",
      "Final Accuracy: 0.4129\n",
      "Final Loss: 71.0072773772756\n",
      "----------------------------------------------------------\n",
      "\n",
      "Training with learning rate=0.01, regularization strength=0.01, hidden size=50\n",
      "\n",
      "Final Accuracy: 0.4932\n",
      "Final Loss: 65.06325386524176\n",
      "----------------------------------------------------------\n",
      "\n",
      "Training with learning rate=0.01, regularization strength=0.01, hidden size=100\n",
      "\n",
      "Final Accuracy: 0.5125\n",
      "Final Loss: 60.757640735436276\n",
      "----------------------------------------------------------\n",
      "\n",
      "Training with learning rate=0.01, regularization strength=0.001, hidden size=10\n",
      "\n",
      "Final Accuracy: 0.4145\n",
      "Final Loss: 73.21529931099535\n",
      "----------------------------------------------------------\n",
      "\n",
      "Training with learning rate=0.01, regularization strength=0.001, hidden size=50\n",
      "\n",
      "Final Accuracy: 0.4963\n",
      "Final Loss: 67.39411797079471\n",
      "----------------------------------------------------------\n",
      "\n",
      "Training with learning rate=0.01, regularization strength=0.001, hidden size=100\n",
      "\n",
      "Final Accuracy: 0.5148\n",
      "Final Loss: 62.651685273507724\n",
      "----------------------------------------------------------\n",
      "\n",
      "Training with learning rate=0.001, regularization strength=0.01, hidden size=10\n",
      "\n",
      "Final Accuracy: 0.3671\n",
      "Final Loss: 68.83947140096515\n",
      "----------------------------------------------------------\n",
      "\n",
      "Training with learning rate=0.001, regularization strength=0.01, hidden size=50\n",
      "\n",
      "Final Accuracy: 0.4342\n",
      "Final Loss: 65.61350217321527\n",
      "----------------------------------------------------------\n",
      "\n",
      "Training with learning rate=0.001, regularization strength=0.01, hidden size=100\n",
      "\n",
      "Final Accuracy: 0.4489\n",
      "Final Loss: 64.60666353471669\n",
      "----------------------------------------------------------\n",
      "\n",
      "Training with learning rate=0.001, regularization strength=0.001, hidden size=10\n",
      "\n",
      "Final Accuracy: 0.3693\n",
      "Final Loss: 69.88711749415897\n",
      "----------------------------------------------------------\n",
      "\n",
      "Training with learning rate=0.001, regularization strength=0.001, hidden size=50\n",
      "\n",
      "Final Accuracy: 0.4354\n",
      "Final Loss: 67.09122066103022\n",
      "----------------------------------------------------------\n",
      "\n",
      "Training with learning rate=0.001, regularization strength=0.001, hidden size=100\n",
      "\n",
      "Final Accuracy: 0.4511\n",
      "Final Loss: 66.22730564059052\n",
      "----------------------------------------------------------\n"
     ]
    }
   ],
   "source": [
    "best_accuracy = 0\n",
    "best_parameters = {}\n",
    "\n",
    "learning_rates = [1e-2, 1e-3] #tried various different values [1e-4, 1e-5,....] got the best accuracy value at 1e-2\n",
    "reg_strengths = [1e-2, 1e-3] #tried various different values [1e-4, 1e-5,....] got the best accuracy value at 1e-3\n",
    "hidden_sizes = [10, 50, 100] #tried various different values [10,20,....50,60,....100,200,....] got the best accuracy value at 100\n",
    "\n",
    "for lr in learning_rates:\n",
    "    for reg in reg_strengths:\n",
    "        for hidden_size in hidden_sizes:\n",
    "            print(f'\\nTraining with learning rate={lr}, regularization strength={reg}, hidden size={hidden_size}\\n')\n",
    "            accuracies_per_epoch, losses_per_epoch = train(X_train_normalized, y_train_onehot, num_epochs=10, batch_size=32, learning_rate=lr, reg_strength=reg, hidden_size=hidden_size)\n",
    "            print(f'Final Accuracy: {accuracies_per_epoch[-1]}')\n",
    "            print(f'Final Loss: {losses_per_epoch[-1]}')\n",
    "            print('----------------------------------------------------------')\n",
    "            # Update best parameters if necessary\n",
    "            if accuracies_per_epoch[-1] > best_accuracy:\n",
    "                best_accuracy = accuracies_per_epoch[-1]\n",
    "                best_parameters = {'learning_rate': lr, 'reg_strength': reg, 'hidden_size': hidden_size}\n",
    "\n"
   ]
  },
  {
   "cell_type": "markdown",
   "id": "4bbe27e6",
   "metadata": {},
   "source": [
    "# Step 6: Train the network with the best hyperparameters and plot the graphs"
   ]
  },
  {
   "cell_type": "code",
   "execution_count": 8,
   "id": "a37708a3",
   "metadata": {},
   "outputs": [
    {
     "name": "stdout",
     "output_type": "stream",
     "text": [
      "\n",
      "Best hyperparameters: {'learning_rate': 0.01, 'reg_strength': 0.001, 'hidden_size': 100}\n"
     ]
    }
   ],
   "source": [
    "print(f'\\nBest hyperparameters: {best_parameters}')\n",
    "best_learning_rate = best_parameters['learning_rate']\n",
    "best_reg_strength = best_parameters['reg_strength']\n",
    "best_hidden_size = best_parameters['hidden_size']\n",
    "\n",
    "# Train the network with the best hyperparameters\n",
    "best_accuracies_per_epoch, best_losses_per_epoch = train(X_train_normalized, y_train_onehot, num_epochs=10, batch_size=32,\n",
    "                                                     learning_rate=best_learning_rate,\n",
    "                                                     reg_strength=best_reg_strength,\n",
    "                                                     hidden_size=best_hidden_size)"
   ]
  },
  {
   "cell_type": "markdown",
   "id": "b3062c9f",
   "metadata": {},
   "source": [
    "## Best hyperparameters: {'learning_rate': 0.01, 'reg_strength': 0.001, 'hidden_size': 100}"
   ]
  },
  {
   "cell_type": "markdown",
   "id": "c0ed2678",
   "metadata": {},
   "source": [
    "# Plotting epochs vs. total loss and epochs vs. accuracies"
   ]
  },
  {
   "cell_type": "code",
   "execution_count": 11,
   "id": "89f5d2ae",
   "metadata": {},
   "outputs": [
    {
     "data": {
      "image/png": "[encoded data removed]",
      "text/plain": [
       "<Figure size 1600x600 with 2 Axes>"
      ]
     },
     "metadata": {},
     "output_type": "display_data"
    }
   ],
   "source": [
    "plt.figure(figsize=(16, 6))\n",
    "\n",
    "# Plot epochs vs. total loss\n",
    "plt.subplot(1, 2, 1)\n",
    "plt.plot(range(1, 11), best_losses_per_epoch, label='Total Loss', color='green')\n",
    "plt.xlabel('Epochs')\n",
    "plt.ylabel('Loss')\n",
    "plt.title('Epochs vs Losses')\n",
    "plt.legend()\n",
    "plt.grid(True)\n",
    "\n",
    "# Plot epochs vs. accuracies\n",
    "plt.subplot(1, 2, 2)\n",
    "plt.plot(range(1, 11), best_accuracies_per_epoch, label='Accuracy', color='purple')\n",
    "plt.xlabel('Epochs')\n",
    "plt.ylabel('Accuracy')\n",
    "plt.title('Epochs vs Accuracy')\n",
    "plt.legend()\n",
    "plt.grid(True)\n",
    "\n",
    "plt.tight_layout() \n",
    "plt.show()\n"
   ]
  },
  {
   "cell_type": "markdown",
   "id": "011e2ba3",
   "metadata": {},
   "source": [
    "## Best Accuracy obtained = 51.48 % which is close to target percentage."
   ]
  }
 ],
 "metadata": {
  "kernelspec": {
   "display_name": "Python 3 (ipykernel)",
   "language": "python",
   "name": "python3"
  },
  "language_info": {
   "codemirror_mode": {
    "name": "ipython",
    "version": 3
   },
   "file_extension": ".py",
   "mimetype": "text/x-python",
   "name": "python",
   "nbconvert_exporter": "python",
   "pygments_lexer": "ipython3",
   "version": "3.9.13"
  }
 },
 "nbformat": 4,
 "nbformat_minor": 5
}
